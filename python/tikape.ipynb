{
 "nbformat": 4,
 "nbformat_minor": 2,
 "metadata": {
  "language_info": {
   "name": "python",
   "codemirror_mode": {
    "name": "ipython",
    "version": 3
   },
   "version": "3.7.4-final"
  },
  "orig_nbformat": 2,
  "file_extension": ".py",
  "mimetype": "text/x-python",
  "name": "python",
  "npconvert_exporter": "python",
  "pygments_lexer": "ipython3",
  "version": 3,
  "kernelspec": {
   "name": "python38132bitb49351a608c84dc2bc0102dcf7fe2a77",
   "display_name": "Python 3.8.1 32-bit"
  }
 },
 "cells": [
  {
   "cell_type": "code",
   "execution_count": 5,
   "metadata": {},
   "outputs": [],
   "source": [
    "import sqlite3"
   ]
  },
  {
   "cell_type": "code",
   "execution_count": 39,
   "metadata": {},
   "outputs": [
    {
     "name": "stdout",
     "output_type": "stream",
     "text": "number is fine\n"
    }
   ],
   "source": [
    "## User input\n",
    "while True:\n",
    "    try:\n",
    "        selection = int(input('''\n",
    "            1: Luo tietokanta\n",
    "            2: Lisää uusi paikka\n",
    "            3: Lisää asiakas\n",
    "            4: Lisää lähetys\n",
    "            5: Lisää tapahtuma\n",
    "            6: Hae kaikki paketin tapahtumat\n",
    "            7: Hae kaikki asiakkaan paketit ja niihin liittyvien tapahtumien määrä\n",
    "            8: Hae annetusta paikasta tapahtumien määrä tiettynä päivänä\n",
    "            9: Tehokkuustesti\n",
    "        '''))\n",
    "        if 1 <= selection <= 9:\n",
    "            print('number is fine')\n",
    "            break\n",
    "        else:\n",
    "            print('VIRHE: Syötä numero väliltä 1-9')\n",
    "    except NameError:\n",
    "        print('VIRHE: Syötä mumero väliltä 1-9')"
   ]
  },
  {
   "cell_type": "code",
   "execution_count": 53,
   "metadata": {},
   "outputs": [
    {
     "ename": "OperationalError",
     "evalue": "table Asiakas already exists",
     "output_type": "error",
     "traceback": [
      "\u001b[1;31m---------------------------------------------------------------------------\u001b[0m",
      "\u001b[1;31mOperationalError\u001b[0m                          Traceback (most recent call last)",
      "\u001b[1;32m<ipython-input-53-7e43f0ab043f>\u001b[0m in \u001b[0;36m<module>\u001b[1;34m\u001b[0m\n\u001b[0;32m      6\u001b[0m     \u001b[0mc\u001b[0m \u001b[1;33m=\u001b[0m \u001b[0mdb\u001b[0m\u001b[1;33m.\u001b[0m\u001b[0mcursor\u001b[0m\u001b[1;33m(\u001b[0m\u001b[1;33m)\u001b[0m\u001b[1;33m\u001b[0m\u001b[1;33m\u001b[0m\u001b[0m\n\u001b[0;32m      7\u001b[0m     \u001b[0msql_schema\u001b[0m \u001b[1;33m=\u001b[0m \u001b[0mopen\u001b[0m\u001b[1;33m(\u001b[0m\u001b[1;34m'c:/Users/arttu/tikape/sql/1-schema.sql'\u001b[0m\u001b[1;33m,\u001b[0m \u001b[1;34m'r'\u001b[0m\u001b[1;33m)\u001b[0m\u001b[1;33m.\u001b[0m\u001b[0mread\u001b[0m\u001b[1;33m(\u001b[0m\u001b[1;33m)\u001b[0m\u001b[1;33m\u001b[0m\u001b[1;33m\u001b[0m\u001b[0m\n\u001b[1;32m----> 8\u001b[1;33m     \u001b[0mc\u001b[0m\u001b[1;33m.\u001b[0m\u001b[0mexecutescript\u001b[0m\u001b[1;33m(\u001b[0m\u001b[0msql_schema\u001b[0m\u001b[1;33m)\u001b[0m\u001b[1;33m\u001b[0m\u001b[1;33m\u001b[0m\u001b[0m\n\u001b[0m\u001b[0;32m      9\u001b[0m     \u001b[0mprint\u001b[0m\u001b[1;33m(\u001b[0m\u001b[1;34m'Tietokanta luotu'\u001b[0m\u001b[1;33m)\u001b[0m\u001b[1;33m\u001b[0m\u001b[1;33m\u001b[0m\u001b[0m\n\u001b[0;32m     10\u001b[0m \u001b[1;32mexcept\u001b[0m \u001b[0mFileExistsError\u001b[0m\u001b[1;33m:\u001b[0m\u001b[1;33m\u001b[0m\u001b[1;33m\u001b[0m\u001b[0m\n",
      "\u001b[1;31mOperationalError\u001b[0m: table Asiakas already exists"
     ]
    }
   ],
   "source": [
    "## 1. Create database and connect to it\n",
    "try:\n",
    "    open('c:/Users/arttu/tikape/sql/tikape.db')\n",
    "    db = sqlite3.connect('c:/Users/arttu/tikape/sql/tikape.db')\n",
    "    db.isolation_level = None\n",
    "    c = db.cursor()\n",
    "    sql_schema = open('c:/Users/arttu/tikape/sql/1-schema.sql', 'r').read()\n",
    "    c.executescript(sql_schema)\n",
    "    print('Tietokanta luotu')\n",
    "except FileExistsError:\n",
    "    print('VIRHE: Tietokanta on jo olemassa')"
   ]
  },
  {
   "cell_type": "code",
   "execution_count": 54,
   "metadata": {},
   "outputs": [
    {
     "name": "stdout",
     "output_type": "stream",
     "text": "Paikka lisätty\n"
    }
   ],
   "source": [
    "## 2. Add place\n",
    "selection = 2\n",
    "if selection == 2:\n",
    "    paikka = input('Anna paikan nimi: \\n')\n",
    "\n",
    "    # Check if exists already\n",
    "    c.execute('''SELECT paikka\n",
    "                 FROM Paikka\n",
    "                 WHERE paikka =?\n",
    "                 ''', [paikka])\n",
    "    result = c.fetchone()\n",
    "    if result:\n",
    "        print('VIRHE: Paikka on jo olemassa')    \n",
    "    else:\n",
    "        c.execute('''INSERT INTO Paikka\n",
    "                     (paikka)\n",
    "                     VALUES\n",
    "                     (?);\n",
    "                     ''', [paikka])\n",
    "        print('Paikka lisätty')\n"
   ]
  },
  {
   "cell_type": "code",
   "execution_count": 57,
   "metadata": {},
   "outputs": [
    {
     "name": "stdout",
     "output_type": "stream",
     "text": "Asiakas lisätty\n"
    }
   ],
   "source": [
    "## 3. Add customer\n",
    "selection = 3\n",
    "if selection == 3:\n",
    "    asiakas = input('Anna asiakkaan nimi: \\n')\n",
    "    c.execute('''SELECT asiakas\n",
    "                 FROM Asiakas\n",
    "                 WHERE asiakas =?;\n",
    "                 ''', [asiakas])\n",
    "    result = c.fetchone()\n",
    "    if result:\n",
    "        print('VIRHE: Asiakas on jo olemassa')\n",
    "    else:\n",
    "        c.execute('''INSERT INTO Asiakas\n",
    "                 (asiakas)\n",
    "                 VALUES\n",
    "                 (?);\n",
    "                 ''', [asiakas])\n",
    "    print('Asiakas lisätty')"
   ]
  },
  {
   "cell_type": "code",
   "execution_count": 60,
   "metadata": {},
   "outputs": [
    {
     "name": "stdout",
     "output_type": "stream",
     "text": "Paketti lisätty\n"
    }
   ],
   "source": [
    "## 4. Add delivery\n",
    "selection = 4\n",
    "if selection == 4:\n",
    "    paketti = input('Anna paketin seurantakoodi: \\n')\n",
    "    asiakas_id = input('Anna asiakkaan nimi: \\n')\n",
    "\n",
    "    c.execute('''SELECT paketti\n",
    "                  FROM Paketti\n",
    "                  WHERE paketti =?\n",
    "              ''', [paketti])\n",
    "    result = c.fetchone()\n",
    "    if result:\n",
    "        print('VIRHE: Lähetys on jo olemassa')\n",
    "    else:\n",
    "        c.execute('''INSERT INTO Paketti\n",
    "             (paketti, asiakas_id)\n",
    "             VALUES\n",
    "             (?, ?);\n",
    "             ''', [paketti, asiakas_id])\n",
    "        print('Paketti lisätty')    "
   ]
  },
  {
   "cell_type": "code",
   "execution_count": 67,
   "metadata": {},
   "outputs": [
    {
     "name": "stdout",
     "output_type": "stream",
     "text": "Tapahtuma lisätty\n"
    }
   ],
   "source": [
    "# 5. Add event\n",
    "selection = 5\n",
    "if selection == 5:\n",
    "    paketti = input('Anna paketin seurantakoodi: \\n')\n",
    "    paikka = input('Anna tapahtuman paikka: \\n')\n",
    "    kuvaus = input('Anna tapahtuman kuvaus')\n",
    "    \n",
    "    # Check if place exists\n",
    "    c.execute('''SELECT paikka\n",
    "                 FROM Paikka\n",
    "                 WHERE paikka =?\n",
    "              ''', [paikka])\n",
    "    result = c.fetchone()\n",
    "    if not result:\n",
    "        print('VIRHE: Paikkaa ei ole olemassa')\n",
    "    # Check if package exists\n",
    "    c.execute('''SELECT paketti\n",
    "                 FROM Paketti\n",
    "                 WHERE paketti =?\n",
    "              ''', [paketti])\n",
    "    result = c.fetchone()\n",
    "    if not result:\n",
    "        print('VIRHE: Lähetyskoodia ei ole olemassa')\n",
    "    \n",
    "    else:\n",
    "        c.execute('''INSERT INTO Tapahtuma\n",
    "                     (paketti_id, paikka, pvm, kuvaus)\n",
    "                     VALUES\n",
    "                     (?, ?, datetime('now'), ?);\n",
    "                 ''', [seurantakoodi, paikka, kuvaus])\n",
    "        print('Tapahtuma lisätty')"
   ]
  },
  {
   "cell_type": "code",
   "execution_count": 71,
   "metadata": {},
   "outputs": [
    {
     "name": "stdout",
     "output_type": "stream",
     "text": "[(2, 'a1', 'naara', '2020-02-27 18:32:10', 'testi')]\n"
    }
   ],
   "source": [
    "# 6. Print events\n",
    "paketti_id = input('Anna paketin lähetystunnus \\n')\n",
    "c.execute('''SELECT *\n",
    "             FROM Tapahtuma\n",
    "             WHERE paketti_id =?\n",
    "         ''', [paketti_id])\n",
    "print(c.fetchall())"
   ]
  },
  {
   "cell_type": "code",
   "execution_count": 73,
   "metadata": {},
   "outputs": [
    {
     "name": "stdout",
     "output_type": "stream",
     "text": "[('', 1), ('a1', 1)]\n"
    }
   ],
   "source": [
    "# 7. Print packages and counts of events\n",
    "asiakas = input('Anna asiakkaan nimi \\n')\n",
    "c.execute('''SELECT t.paketti_id, count(t.id)\n",
    "             FROM Tapahtuma t, Paketti p\n",
    "             WHERE p.asiakas_id =?\n",
    "             GROUP BY t.paketti_id\n",
    "          ''', [asiakas])\n",
    "print(c.fetchall())"
   ]
  },
  {
   "cell_type": "code",
   "execution_count": 76,
   "metadata": {},
   "outputs": [
    {
     "name": "stdout",
     "output_type": "stream",
     "text": "[('naara', 1)]\n"
    }
   ],
   "source": [
    "# Print events per place and date\n",
    "paikka = input('Anna paikan nimi \\n')\n",
    "pvm = input('Anna päivämäärä (2020-02-28) \\n')\n",
    "c.execute('''SELECT t.paikka_id, count(*)\n",
    "             FROM Tapahtuma t, Paikka p\n",
    "             WHERE t.paikka_id = p.paikka AND p.paikka =? AND date(?)\n",
    "             GROUP BY t.paikka_id\n",
    "          ''', [paikka, pvm])\n",
    "print(c.fetchall())"
   ]
  },
  {
   "cell_type": "code",
   "execution_count": null,
   "metadata": {},
   "outputs": [],
   "source": []
  }
 ]
}
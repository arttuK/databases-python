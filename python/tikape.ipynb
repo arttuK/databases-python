{
 "nbformat": 4,
 "nbformat_minor": 2,
 "metadata": {
  "language_info": {
   "name": "python",
   "codemirror_mode": {
    "name": "ipython",
    "version": 3
   },
   "version": "3.7.4-final"
  },
  "orig_nbformat": 2,
  "file_extension": ".py",
  "mimetype": "text/x-python",
  "name": "python",
  "npconvert_exporter": "python",
  "pygments_lexer": "ipython3",
  "version": 3,
  "kernelspec": {
   "name": "python38132bitb49351a608c84dc2bc0102dcf7fe2a77",
   "display_name": "Python 3.8.1 32-bit"
  }
 },
 "cells": [
  {
   "cell_type": "code",
   "execution_count": 5,
   "metadata": {},
   "outputs": [],
   "source": [
    "import sqlite3"
   ]
  },
  {
   "cell_type": "code",
   "execution_count": 6,
   "metadata": {},
   "outputs": [],
   "source": [
    "## Database connection\n",
    "db = sqlite3.connect('c:/Users/arttu/tikape/sql/tracking.db')\n",
    "db.isolation_level = None\n",
    "c = db.cursor()"
   ]
  },
  {
   "cell_type": "code",
   "execution_count": 5,
   "metadata": {},
   "outputs": [
    {
     "name": "stdout",
     "output_type": "stream",
     "text": "luo kannat\n"
    }
   ],
   "source": [
    "## User input\n",
    "selection = int(input(''' Valitse numero\n",
    "    1: Luo tietokanta\n",
    "    2: Lisää uusi paikka\n",
    "    3: Lisää asiakas\n",
    "    4: Lisää lähetys\n",
    "    5: Lisää tapahtuma\n",
    "    6: Hae kaikki paketin tapahtumat\n",
    "    7: Hae kaikki asiakkaan paketit ja niihin liittyvien tapahtumien määrä\n",
    "    8:\n",
    "'''))"
   ]
  },
  {
   "cell_type": "code",
   "execution_count": null,
   "metadata": {},
   "outputs": [],
   "source": [
    "## 1. Create database\n",
    "if selection == 1:\n",
    "    sql_schema = open('c:/Users/arttu/tikape/sql/1-schema.sql', 'r').read()\n",
    "    c.executescript(sql_schema)\n",
    "    \n",
    "    print('Tietokanta luotu')"
   ]
  },
  {
   "cell_type": "code",
   "execution_count": 30,
   "metadata": {},
   "outputs": [
    {
     "name": "stdout",
     "output_type": "stream",
     "text": "Paikka on jo olemassa\n"
    }
   ],
   "source": [
    "## 2. Add place\n",
    "selection = 2\n",
    "if selection == 2:\n",
    "    paikka = input('Anna paikan nimi: \\n')\n",
    "\n",
    "    # Check if exists already\n",
    "    c.execute('''SELECT paikka\n",
    "                 FROM Paikka\n",
    "                 WHERE paikka =?\n",
    "                 ''', [paikka])\n",
    "    result = c.fetchone()\n",
    "    if result:\n",
    "        print('VIRHE: Paikka on jo olemassa')    \n",
    "    else:\n",
    "        c.execute('''INSERT INTO Paikka\n",
    "                     (paikka)\n",
    "                     VALUES\n",
    "                     (?);\n",
    "                     ''', [paikka])\n",
    "        print('Paikka lisätty')\n"
   ]
  },
  {
   "cell_type": "code",
   "execution_count": 24,
   "metadata": {},
   "outputs": [
    {
     "name": "stdout",
     "output_type": "stream",
     "text": "Asiakas lisätty\n"
    }
   ],
   "source": [
    "## 3. Add customer\n",
    "selection = 3\n",
    "if selection == 3:\n",
    "    asiakas = input('Anna asiakkaan nimi: \\n')\n",
    "    c.execute('''SELECT asiakas\n",
    "                 FROM Asiakas\n",
    "                 WHERE asiakas =?;\n",
    "                 ''')\n",
    "    result = fetchone()\n",
    "    if result:\n",
    "        print('VIRHE: Asiakas on jo olemassa')\n",
    "    else:\n",
    "        c.execute('''INSERT INTO Asiakas\n",
    "                 (asiakas)\n",
    "                 VALUES\n",
    "                 (?);\n",
    "                 ''', [asiakas])\n",
    "    print('Asiakas lisätty')"
   ]
  },
  {
   "cell_type": "code",
   "execution_count": 26,
   "metadata": {},
   "outputs": [
    {
     "name": "stdout",
     "output_type": "stream",
     "text": "Paketti lisätty\n"
    }
   ],
   "source": [
    "## 4. Add delivery\n",
    "selection = 4\n",
    "if selection == 4:\n",
    "    paketti = input('Anna paketin seurantakoodi: \\n')\n",
    "    asiakas_id = input('Anna asiakkaan nimi: \\n')\n",
    "\n",
    "    c.execute('''SELECT paketti\n",
    "                  FROM Paketti\n",
    "                  WHERE paketti =?\n",
    "              ''', [paketti])\n",
    "    result = fetchone()\n",
    "    if result:\n",
    "        print('VIRHE: Lähetys on jo olemassa')\n",
    "    else:\n",
    "    c.execute('''INSERT INTO Paketti\n",
    "             (paketti, asiakas_id)\n",
    "             VALUES\n",
    "             (?, ?);\n",
    "             ''', [paketti, asiakas_id])\n",
    "    print('Paketti lisätty')    "
   ]
  },
  {
   "cell_type": "code",
   "execution_count": 20,
   "metadata": {},
   "outputs": [],
   "source": [
    "## 5. Add event\n",
    "if selection == 5:\n",
    "    seurantakoodi = input('Anna paketin seurantakoodi: \\n')\n",
    "    paikka = input('Anna tapahtuman paikka: \\n')\n",
    "    kuvaus = input('Anna tapahtuman kuvaus')\n",
    "    c.execute('''SELECT paikka\n",
    "                 FROM Paikka\n",
    "                 WHERE paikka =?\n",
    "              ''', [paikka])\n",
    "    result = fetchone()\n",
    "    if result:\n",
    "        print('VIRHE: Paikkaa ei ole olemassa')\n",
    "    else:\n",
    "    c.execute('''INSERT INTO Tapahtuma\n",
    "             (paketti_id, paikka_id, pvm, kuvaus)\n",
    "             VALUES\n",
    "             (?, ?, datetime('now'), ?);\n",
    "             ''', [seurantakoodi, paikka, kuvaus])\n",
    "    print('Tapahtuma lisätty')"
   ]
  },
  {
   "cell_type": "code",
   "execution_count": null,
   "metadata": {},
   "outputs": [],
   "source": []
  }
 ]
}